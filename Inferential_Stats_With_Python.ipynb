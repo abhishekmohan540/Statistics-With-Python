{
 "cells": [
  {
   "cell_type": "code",
   "execution_count": 1,
   "id": "c2fa6b53",
   "metadata": {},
   "outputs": [],
   "source": [
    "import numpy as np\n",
    "from statistics import mode"
   ]
  },
  {
   "cell_type": "code",
   "execution_count": 2,
   "id": "683e8de1",
   "metadata": {},
   "outputs": [],
   "source": [
    "population = np.random.randint(10,20,50)"
   ]
  },
  {
   "cell_type": "code",
   "execution_count": 3,
   "id": "0d528222",
   "metadata": {},
   "outputs": [
    {
     "data": {
      "text/plain": [
       "array([16, 12, 11, 16, 19, 14, 13, 13, 17, 18, 13, 12, 10, 17, 18, 17, 17,\n",
       "       19, 19, 11, 16, 11, 17, 13, 15, 12, 18, 15, 10, 10, 19, 15, 12, 17,\n",
       "       12, 13, 15, 11, 14, 14, 10, 13, 10, 19, 12, 19, 17, 13, 15, 17])"
      ]
     },
     "execution_count": 3,
     "metadata": {},
     "output_type": "execute_result"
    }
   ],
   "source": [
    "population"
   ]
  },
  {
   "cell_type": "code",
   "execution_count": 4,
   "id": "b74f4d30",
   "metadata": {},
   "outputs": [
    {
     "data": {
      "text/plain": [
       "14.52"
      ]
     },
     "execution_count": 4,
     "metadata": {},
     "output_type": "execute_result"
    }
   ],
   "source": [
    "np.mean(population)"
   ]
  },
  {
   "cell_type": "code",
   "execution_count": 5,
   "id": "34b69fee",
   "metadata": {},
   "outputs": [
    {
     "data": {
      "text/plain": [
       "14.5"
      ]
     },
     "execution_count": 5,
     "metadata": {},
     "output_type": "execute_result"
    }
   ],
   "source": [
    "np.median(population)"
   ]
  },
  {
   "cell_type": "code",
   "execution_count": 6,
   "id": "e85fb345",
   "metadata": {},
   "outputs": [
    {
     "data": {
      "text/plain": [
       "17"
      ]
     },
     "execution_count": 6,
     "metadata": {},
     "output_type": "execute_result"
    }
   ],
   "source": [
    "mode(population)"
   ]
  },
  {
   "cell_type": "code",
   "execution_count": 8,
   "id": "6f09d323",
   "metadata": {},
   "outputs": [
    {
     "name": "stdout",
     "output_type": "stream",
     "text": [
      "the mean of the population is 14.52\n",
      "the median of the population is 14.5\n",
      "the mode of the population is 17\n"
     ]
    }
   ],
   "source": [
    "print(f\"the mean of the population is {np.mean(population)}\")\n",
    "print(f\"the median of the population is {np.median(population)}\")\n",
    "print(f\"the mode of the population is {mode(population)}\")"
   ]
  },
  {
   "cell_type": "code",
   "execution_count": 11,
   "id": "4062e3cb",
   "metadata": {},
   "outputs": [],
   "source": [
    "sample = np.random.choice(population,20)"
   ]
  },
  {
   "cell_type": "code",
   "execution_count": 15,
   "id": "5571171b",
   "metadata": {},
   "outputs": [
    {
     "data": {
      "text/plain": [
       "array([17, 12, 19, 19, 11, 17, 17, 15, 17, 14, 19, 12, 19, 14, 11, 15, 12,\n",
       "       19, 19, 12])"
      ]
     },
     "execution_count": 15,
     "metadata": {},
     "output_type": "execute_result"
    }
   ],
   "source": [
    "sample"
   ]
  },
  {
   "cell_type": "code",
   "execution_count": 16,
   "id": "967c0b5a",
   "metadata": {},
   "outputs": [
    {
     "name": "stdout",
     "output_type": "stream",
     "text": [
      "the mean of the sample is 15.5\n",
      "the median of the sample is 16.0\n",
      "the mode of the sample is 19\n"
     ]
    }
   ],
   "source": [
    "print(f\"the mean of the sample is {np.mean(sample)}\")\n",
    "print(f\"the median of the sample is {np.median(sample)}\")\n",
    "print(f\"the mode of the sample is {mode(sample)}\")"
   ]
  },
  {
   "cell_type": "code",
   "execution_count": 19,
   "id": "fbe45ebe",
   "metadata": {},
   "outputs": [],
   "source": [
    "sample1 = np.random.choice(population,20)\n",
    "sample2 = np.random.choice(population,20)\n",
    "sample3 = np.random.choice(population,20)\n",
    "sample4 = np.random.choice(population,20)"
   ]
  },
  {
   "cell_type": "code",
   "execution_count": 21,
   "id": "e37b7478",
   "metadata": {},
   "outputs": [
    {
     "name": "stdout",
     "output_type": "stream",
     "text": [
      "[15 18 17 10 13 18 19 19 12 15 10 15 14 15 16 10 15 12 16 11]\n",
      "============================================================\n",
      "[12 17 13 19 12 13 18 11 12 13 10 19 12 17 17 12 12 12 15 17]\n",
      "============================================================\n",
      "[16 15 12 11 18 17 19 12 11 17 19 11 17 16 10 11 17 13 14 16]\n",
      "============================================================\n",
      "[14 19 14 17 10 14 19 15 19 12 10 13 11 13 10 17 13 15 12 13]\n"
     ]
    }
   ],
   "source": [
    "print(sample1)\n",
    "print(\"=\"*60)\n",
    "print(sample2)\n",
    "print(\"=\"*60)\n",
    "print(sample3)\n",
    "print(\"=\"*60)\n",
    "print(sample4)"
   ]
  },
  {
   "cell_type": "code",
   "execution_count": 23,
   "id": "9d7f0a0d",
   "metadata": {},
   "outputs": [
    {
     "name": "stdout",
     "output_type": "stream",
     "text": [
      "[14.5, 14.15, 14.6, 14.0]\n"
     ]
    }
   ],
   "source": [
    "mean_of_samples= []\n",
    "\n",
    "list_of_samples = [sample1,sample2,sample3,sample4 ]\n",
    "\n",
    "for sample in list_of_samples:\n",
    "    mean_of_samples.append(np.mean(sample))\n",
    "    \n",
    "print(mean_of_samples)    "
   ]
  },
  {
   "cell_type": "markdown",
   "id": "f6210784",
   "metadata": {},
   "source": [
    "### Central Limit Theorem"
   ]
  },
  {
   "cell_type": "code",
   "execution_count": 50,
   "id": "c2c120cd",
   "metadata": {},
   "outputs": [],
   "source": [
    "population1 = np.random.binomial(10,0.5,10000)"
   ]
  },
  {
   "cell_type": "code",
   "execution_count": 51,
   "id": "3b2d188f",
   "metadata": {},
   "outputs": [
    {
     "data": {
      "text/plain": [
       "array([5, 8, 9, ..., 6, 4, 4])"
      ]
     },
     "execution_count": 51,
     "metadata": {},
     "output_type": "execute_result"
    }
   ],
   "source": [
    "population1"
   ]
  },
  {
   "cell_type": "code",
   "execution_count": 52,
   "id": "bca64b2a",
   "metadata": {},
   "outputs": [
    {
     "data": {
      "text/plain": [
       "10000"
      ]
     },
     "execution_count": 52,
     "metadata": {},
     "output_type": "execute_result"
    }
   ],
   "source": [
    "len(population1)"
   ]
  },
  {
   "cell_type": "code",
   "execution_count": 2,
   "id": "78527e0b",
   "metadata": {},
   "outputs": [],
   "source": [
    "import seaborn as sns"
   ]
  },
  {
   "cell_type": "code",
   "execution_count": 54,
   "id": "1582c91f",
   "metadata": {},
   "outputs": [
    {
     "name": "stderr",
     "output_type": "stream",
     "text": [
      "C:\\Users\\DELL\\anaconda3\\lib\\site-packages\\seaborn\\distributions.py:2619: FutureWarning: `distplot` is a deprecated function and will be removed in a future version. Please adapt your code to use either `displot` (a figure-level function with similar flexibility) or `histplot` (an axes-level function for histograms).\n",
      "  warnings.warn(msg, FutureWarning)\n"
     ]
    },
    {
     "data": {
      "text/plain": [
       "<AxesSubplot:ylabel='Density'>"
      ]
     },
     "execution_count": 54,
     "metadata": {},
     "output_type": "execute_result"
    },
    {
     "data": {
      "image/png": "[encoded data removed]",
      "text/plain": [
       "<Figure size 432x288 with 1 Axes>"
      ]
     },
     "metadata": {
      "needs_background": "light"
     },
     "output_type": "display_data"
    }
   ],
   "source": [
    "sns.distplot(population1)"
   ]
  },
  {
   "cell_type": "code",
   "execution_count": 61,
   "id": "69b81738",
   "metadata": {},
   "outputs": [],
   "source": [
    "Size = int(len(population1)*0.30)"
   ]
  },
  {
   "cell_type": "code",
   "execution_count": 62,
   "id": "7f5b396f",
   "metadata": {},
   "outputs": [
    {
     "data": {
      "text/plain": [
       "3000"
      ]
     },
     "execution_count": 62,
     "metadata": {},
     "output_type": "execute_result"
    }
   ],
   "source": [
    "Size"
   ]
  },
  {
   "cell_type": "code",
   "execution_count": 63,
   "id": "8c2501db",
   "metadata": {},
   "outputs": [],
   "source": [
    "# We have taken 30 samples each having 3000 data points from the population1 data."
   ]
  },
  {
   "cell_type": "code",
   "execution_count": 73,
   "id": "9f1c896f",
   "metadata": {},
   "outputs": [],
   "source": [
    "sample_mean= []\n",
    "for i in range(1,21):\n",
    "    sample = np.random.choice(population1, size = Size)\n",
    "    sample_mean.append(np.mean(sample))"
   ]
  },
  {
   "cell_type": "code",
   "execution_count": 74,
   "id": "fef90daf",
   "metadata": {},
   "outputs": [
    {
     "data": {
      "text/plain": [
       "[5.0103333333333335,\n",
       " 5.008666666666667,\n",
       " 4.995,\n",
       " 4.992,\n",
       " 4.982,\n",
       " 4.97,\n",
       " 4.990333333333333,\n",
       " 5.0633333333333335,\n",
       " 4.934666666666667,\n",
       " 4.987666666666667,\n",
       " 4.999666666666666,\n",
       " 4.965333333333334,\n",
       " 4.992,\n",
       " 5.008666666666667,\n",
       " 4.991333333333333,\n",
       " 4.978,\n",
       " 4.983666666666666,\n",
       " 4.992,\n",
       " 5.008666666666667,\n",
       " 5.037]"
      ]
     },
     "execution_count": 74,
     "metadata": {},
     "output_type": "execute_result"
    }
   ],
   "source": [
    "sample_mean"
   ]
  },
  {
   "cell_type": "code",
   "execution_count": 75,
   "id": "0a54270b",
   "metadata": {},
   "outputs": [
    {
     "name": "stderr",
     "output_type": "stream",
     "text": [
      "C:\\Users\\DELL\\anaconda3\\lib\\site-packages\\seaborn\\distributions.py:2619: FutureWarning: `distplot` is a deprecated function and will be removed in a future version. Please adapt your code to use either `displot` (a figure-level function with similar flexibility) or `histplot` (an axes-level function for histograms).\n",
      "  warnings.warn(msg, FutureWarning)\n"
     ]
    },
    {
     "data": {
      "text/plain": [
       "<AxesSubplot:ylabel='Density'>"
      ]
     },
     "execution_count": 75,
     "metadata": {},
     "output_type": "execute_result"
    },
    {
     "data": {
      "image/png": "[encoded data removed]",
      "text/plain": [
       "<Figure size 432x288 with 1 Axes>"
      ]
     },
     "metadata": {
      "needs_background": "light"
     },
     "output_type": "display_data"
    }
   ],
   "source": [
    "sns.distplot(sample_mean)"
   ]
  },
  {
   "cell_type": "code",
   "execution_count": 76,
   "id": "90326473",
   "metadata": {},
   "outputs": [],
   "source": [
    "# The obtained graph is close to normal distribution. As per CLT theorem."
   ]
  },
  {
   "cell_type": "code",
   "execution_count": 78,
   "id": "26295401",
   "metadata": {},
   "outputs": [],
   "source": [
    "sample_mean= []\n",
    "for i in range(1,500):\n",
    "    sample = np.random.choice(population1, size = Size)\n",
    "    sample_mean.append(np.mean(sample))"
   ]
  },
  {
   "cell_type": "code",
   "execution_count": 80,
   "id": "65c371b7",
   "metadata": {},
   "outputs": [
    {
     "name": "stderr",
     "output_type": "stream",
     "text": [
      "C:\\Users\\DELL\\anaconda3\\lib\\site-packages\\seaborn\\distributions.py:2619: FutureWarning: `distplot` is a deprecated function and will be removed in a future version. Please adapt your code to use either `displot` (a figure-level function with similar flexibility) or `histplot` (an axes-level function for histograms).\n",
      "  warnings.warn(msg, FutureWarning)\n"
     ]
    },
    {
     "data": {
      "text/plain": [
       "<AxesSubplot:ylabel='Density'>"
      ]
     },
     "execution_count": 80,
     "metadata": {},
     "output_type": "execute_result"
    },
    {
     "data": {
      "image/png": "[encoded data removed]",
      "text/plain": [
       "<Figure size 432x288 with 1 Axes>"
      ]
     },
     "metadata": {
      "needs_background": "light"
     },
     "output_type": "display_data"
    }
   ],
   "source": [
    "sns.distplot(sample_mean, color=\"red\")"
   ]
  },
  {
   "cell_type": "code",
   "execution_count": 87,
   "id": "0d3f90c3",
   "metadata": {},
   "outputs": [],
   "source": [
    "sample_mean= []\n",
    "for i in range(1,1000):\n",
    "    sample = np.random.choice(population1, size = 500)\n",
    "    sample_mean.append(np.mean(sample))"
   ]
  },
  {
   "cell_type": "code",
   "execution_count": 88,
   "id": "5f8163e8",
   "metadata": {},
   "outputs": [
    {
     "name": "stderr",
     "output_type": "stream",
     "text": [
      "C:\\Users\\DELL\\anaconda3\\lib\\site-packages\\seaborn\\distributions.py:2619: FutureWarning: `distplot` is a deprecated function and will be removed in a future version. Please adapt your code to use either `displot` (a figure-level function with similar flexibility) or `histplot` (an axes-level function for histograms).\n",
      "  warnings.warn(msg, FutureWarning)\n"
     ]
    },
    {
     "data": {
      "text/plain": [
       "<AxesSubplot:ylabel='Density'>"
      ]
     },
     "execution_count": 88,
     "metadata": {},
     "output_type": "execute_result"
    },
    {
     "data": {
      "image/png": "[encoded data removed]",
      "text/plain": [
       "<Figure size 432x288 with 1 Axes>"
      ]
     },
     "metadata": {
      "needs_background": "light"
     },
     "output_type": "display_data"
    }
   ],
   "source": [
    "sns.distplot(sample_mean)"
   ]
  },
  {
   "cell_type": "markdown",
   "id": "1a3d70e6",
   "metadata": {},
   "source": [
    "# Different types of sampling:-\n",
    "1. Random sampling\n",
    "2. Startified sampling\n",
    "3. Cluster sampling\n",
    "4. Systematic sampling"
   ]
  },
  {
   "cell_type": "markdown",
   "id": "42942c3a",
   "metadata": {},
   "source": [
    "    In statistics, there are several different types of sampling techniques used to gather data from a population. These include:\n",
    "\n",
    "    Simple random sampling: This is a type of sampling where every individual in the population has an equal chance of being selected for the sample. This can be done using a random number generator or by drawing names out of a hat.\n",
    "\n",
    "    Stratified sampling: This is a type of sampling where the population is divided into subgroups or strata based on some characteristic (such as age or income). A random sample is then taken from each stratum in proportion to its size in the population.\n",
    "\n",
    "    Cluster sampling: This is a type of sampling where the population is divided into clusters (such as neighborhoods or schools), and a random sample of clusters is selected. Then, a sample is taken from each selected cluster.\n",
    "\n",
    "    Systematic sampling: This is a type of sampling where every nth individual in the population is selected for the sample. For example, if you want a sample of 100 from a population of 1000, you would select every 10th individual.\n",
    "\n",
    "    Convenience sampling: This is a type of sampling where individuals are selected based on their availability or willingness to participate. This is often used in studies where it is difficult to recruit participants.\n",
    "\n",
    "    Each type of sampling technique has its own advantages and disadvantages, and the choice of sampling technique depends on the research question, the characteristics of the population, and the resources available.\n"
   ]
  },
  {
   "cell_type": "markdown",
   "id": "117fcf4a",
   "metadata": {},
   "source": [
    "## Confidence Interval and Margin of Error"
   ]
  },
  {
   "cell_type": "code",
   "execution_count": 101,
   "id": "80e2c7ed",
   "metadata": {},
   "outputs": [
    {
     "data": {
      "text/plain": [
       "array([16, 12, 11, 16, 19, 14, 13, 13, 17, 18, 13, 12, 10, 17, 18, 17, 17,\n",
       "       19, 19, 11, 16, 11, 17, 13, 15, 12, 18, 15, 10, 10, 19, 15, 12, 17,\n",
       "       12, 13, 15, 11, 14, 14, 10, 13, 10, 19, 12, 19, 17, 13, 15, 17])"
      ]
     },
     "execution_count": 101,
     "metadata": {},
     "output_type": "execute_result"
    }
   ],
   "source": [
    "population"
   ]
  },
  {
   "cell_type": "code",
   "execution_count": 102,
   "id": "35e5fc2d",
   "metadata": {},
   "outputs": [],
   "source": [
    "sample1 = np.random.choice(population,20)\n",
    "sample2 = np.random.choice(population,20)\n",
    "sample3 = np.random.choice(population,20)\n",
    "sample4 = np.random.choice(population,20)"
   ]
  },
  {
   "cell_type": "code",
   "execution_count": 103,
   "id": "06db4221",
   "metadata": {},
   "outputs": [
    {
     "name": "stdout",
     "output_type": "stream",
     "text": [
      "[13.75, 13.95, 14.3, 14.0]\n"
     ]
    }
   ],
   "source": [
    "mean_of_samples= []\n",
    "\n",
    "list_of_samples = [sample1,sample2,sample3,sample4 ]\n",
    "\n",
    "for sample in list_of_samples:\n",
    "    mean_of_samples.append(np.mean(sample))\n",
    "    \n",
    "print(mean_of_samples)    "
   ]
  },
  {
   "cell_type": "code",
   "execution_count": 107,
   "id": "a19f24c0",
   "metadata": {},
   "outputs": [],
   "source": [
    "z_critical = stats.norm.ppf(q=0.975)"
   ]
  },
  {
   "cell_type": "code",
   "execution_count": 108,
   "id": "3850a01b",
   "metadata": {},
   "outputs": [],
   "source": [
    "t_critical = stats.t.ppf(q=0.975, df=24)      #df= degree of freedom"
   ]
  },
  {
   "cell_type": "code",
   "execution_count": 109,
   "id": "f7b64d77",
   "metadata": {},
   "outputs": [],
   "source": [
    "margin_of_error = z_critical + np.std(mean_of_samples)/np.sqrt(20)"
   ]
  },
  {
   "cell_type": "code",
   "execution_count": 110,
   "id": "1d86a7f6",
   "metadata": {},
   "outputs": [
    {
     "data": {
      "text/plain": [
       "11.996018973305798"
      ]
     },
     "execution_count": 110,
     "metadata": {},
     "output_type": "execute_result"
    }
   ],
   "source": [
    "np.mean(mean_of_samples) - margin_of_error"
   ]
  },
  {
   "cell_type": "code",
   "execution_count": 111,
   "id": "6fc3ce61",
   "metadata": {},
   "outputs": [
    {
     "data": {
      "text/plain": [
       "16.003981026694202"
      ]
     },
     "execution_count": 111,
     "metadata": {},
     "output_type": "execute_result"
    }
   ],
   "source": [
    "np.mean(mean_of_samples) + margin_of_error"
   ]
  },
  {
   "cell_type": "code",
   "execution_count": null,
   "id": "d78143fb",
   "metadata": {},
   "outputs": [],
   "source": []
  },
  {
   "cell_type": "code",
   "execution_count": null,
   "id": "f7da6bcd",
   "metadata": {},
   "outputs": [],
   "source": []
  },
  {
   "cell_type": "code",
   "execution_count": 104,
   "id": "249b6f2b",
   "metadata": {},
   "outputs": [],
   "source": [
    "import scipy.stats as stats"
   ]
  },
  {
   "cell_type": "code",
   "execution_count": 92,
   "id": "6bc2b619",
   "metadata": {},
   "outputs": [
    {
     "data": {
      "text/plain": [
       "1.6448536269514722"
      ]
     },
     "execution_count": 92,
     "metadata": {},
     "output_type": "execute_result"
    }
   ],
   "source": [
    "stats.norm.ppf(q=0.95)   #q = CI of 95%   #ppf = Percent point function (inverse of `cdf`) at q of the given RV."
   ]
  },
  {
   "cell_type": "code",
   "execution_count": 93,
   "id": "45f9060b",
   "metadata": {},
   "outputs": [
    {
     "data": {
      "text/plain": [
       "1.8807936081512509"
      ]
     },
     "execution_count": 93,
     "metadata": {},
     "output_type": "execute_result"
    }
   ],
   "source": [
    "stats.norm.ppf(q=0.97)"
   ]
  },
  {
   "cell_type": "code",
   "execution_count": 95,
   "id": "20dd20c8",
   "metadata": {},
   "outputs": [
    {
     "data": {
      "text/plain": [
       "0.254059056469189"
      ]
     },
     "execution_count": 95,
     "metadata": {},
     "output_type": "execute_result"
    }
   ],
   "source": [
    "stats.norm.pdf(x = 0.95)           #Probability density function at x of the given RV."
   ]
  },
  {
   "cell_type": "code",
   "execution_count": 96,
   "id": "bfa055cc",
   "metadata": {},
   "outputs": [
    {
     "data": {
      "text/plain": [
       "0.0"
      ]
     },
     "execution_count": 96,
     "metadata": {},
     "output_type": "execute_result"
    }
   ],
   "source": [
    "stats.norm.ppf(q=0.5)"
   ]
  },
  {
   "cell_type": "code",
   "execution_count": 97,
   "id": "fdd4639a",
   "metadata": {},
   "outputs": [
    {
     "data": {
      "text/plain": [
       "0.3520653267642995"
      ]
     },
     "execution_count": 97,
     "metadata": {},
     "output_type": "execute_result"
    }
   ],
   "source": [
    "stats.norm.pdf(x = 0.5)"
   ]
  },
  {
   "cell_type": "code",
   "execution_count": 98,
   "id": "61318617",
   "metadata": {},
   "outputs": [],
   "source": [
    "z_critical = stats.norm.ppf(q=0.975)"
   ]
  },
  {
   "cell_type": "code",
   "execution_count": 99,
   "id": "7ac7cfcb",
   "metadata": {},
   "outputs": [],
   "source": [
    "t_critical = stats.t.ppf(q=0.975, df=24)      #df= degree of freedom"
   ]
  },
  {
   "cell_type": "code",
   "execution_count": null,
   "id": "58ac8267",
   "metadata": {},
   "outputs": [],
   "source": [
    "margin_of_error = z_critical + np.std(sample_mean)/np.sqrt(20)"
   ]
  },
  {
   "cell_type": "code",
   "execution_count": null,
   "id": "553695dc",
   "metadata": {},
   "outputs": [],
   "source": []
  },
  {
   "cell_type": "markdown",
   "id": "18bd1a15",
   "metadata": {},
   "source": [
    "## Z-test"
   ]
  },
  {
   "cell_type": "code",
   "execution_count": 3,
   "id": "8c6319b7",
   "metadata": {},
   "outputs": [],
   "source": [
    "from numpy.random import randn"
   ]
  },
  {
   "cell_type": "code",
   "execution_count": 4,
   "id": "019080cc",
   "metadata": {},
   "outputs": [],
   "source": [
    "population = randn(100)"
   ]
  },
  {
   "cell_type": "code",
   "execution_count": 5,
   "id": "61d50f24",
   "metadata": {},
   "outputs": [
    {
     "data": {
      "text/plain": [
       "array([-0.26889932, -1.15687348,  1.61734799, -1.07483709, -0.29666389,\n",
       "       -0.35098485, -0.28031107, -0.58019906,  0.0042445 ,  1.20890957,\n",
       "       -1.09437723,  0.21837869,  2.8092935 , -1.58452247, -0.37593899,\n",
       "       -1.42363447,  0.4071273 , -1.94539765,  0.23421683,  0.71906235,\n",
       "       -0.21246888,  1.00595533,  0.264369  ,  1.8254642 , -0.34462235,\n",
       "        0.47579795, -0.81754896, -0.3770828 ,  0.18038135,  0.39897906,\n",
       "       -1.18425472, -0.05457583,  0.94589964, -0.34661936,  0.15510394,\n",
       "        0.6600108 , -0.63206604,  2.76531792,  0.81579867,  0.27377466,\n",
       "        0.33964783, -0.39770627,  1.63034899, -0.50299674, -1.91336971,\n",
       "        1.4108263 , -1.09937803, -0.42096613, -2.11773132, -1.9556083 ,\n",
       "       -0.62639765, -0.55653266,  0.96240595, -1.3716002 ,  0.6178134 ,\n",
       "       -0.53626327,  0.22649935, -0.71929507,  0.65525073, -0.38341087,\n",
       "        0.18211762,  0.83824288,  0.23100543, -0.13737304, -0.18886716,\n",
       "       -0.55629465,  0.83542189, -1.52210124,  0.4381904 ,  0.31561275,\n",
       "        0.64142865, -2.10455407,  0.93555558,  0.7617549 , -1.07487319,\n",
       "        0.5914054 ,  0.44945724,  2.02324364, -1.57619152,  0.87903122,\n",
       "       -0.07326277, -0.61419115,  0.90550254,  1.04920358,  0.17001182,\n",
       "       -0.62917077, -0.19464751,  0.21382516,  1.80827851,  0.57013794,\n",
       "       -0.46632679,  0.21731659,  1.23570637,  0.76679801,  1.39273366,\n",
       "       -1.24618832,  0.6681096 , -0.88340378, -0.44330365,  2.15977417])"
      ]
     },
     "execution_count": 5,
     "metadata": {},
     "output_type": "execute_result"
    }
   ],
   "source": [
    "population"
   ]
  },
  {
   "cell_type": "code",
   "execution_count": 7,
   "id": "0d278dc5",
   "metadata": {},
   "outputs": [
    {
     "name": "stderr",
     "output_type": "stream",
     "text": [
      "C:\\Users\\DELL\\anaconda3\\lib\\site-packages\\seaborn\\distributions.py:2619: FutureWarning: `distplot` is a deprecated function and will be removed in a future version. Please adapt your code to use either `displot` (a figure-level function with similar flexibility) or `histplot` (an axes-level function for histograms).\n",
      "  warnings.warn(msg, FutureWarning)\n"
     ]
    },
    {
     "data": {
      "text/plain": [
       "<AxesSubplot:ylabel='Density'>"
      ]
     },
     "execution_count": 7,
     "metadata": {},
     "output_type": "execute_result"
    },
    {
     "data": {
      "image/png": "[encoded data removed]",
      "text/plain": [
       "<Figure size 432x288 with 1 Axes>"
      ]
     },
     "metadata": {
      "needs_background": "light"
     },
     "output_type": "display_data"
    }
   ],
   "source": [
    "sns.distplot(population)"
   ]
  },
  {
   "cell_type": "code",
   "execution_count": 8,
   "id": "8ce7de10",
   "metadata": {},
   "outputs": [
    {
     "name": "stdout",
     "output_type": "stream",
     "text": [
      "0.04394206974090011\n",
      "1.0243239382314382\n"
     ]
    }
   ],
   "source": [
    "print(np.mean(population))\n",
    "print(np.std(population))"
   ]
  },
  {
   "cell_type": "markdown",
   "id": "c030b32d",
   "metadata": {},
   "source": [
    "    CI = 95% = 0.95\n",
    "    Alpha = 0.05\n",
    "\n",
    "    if P<0.05, Reject the null hypothesis.\n",
    "    if P>0.05, fail to Reject the null hypothesis or Accept the null hypothesis."
   ]
  },
  {
   "cell_type": "code",
   "execution_count": 9,
   "id": "94094e0b",
   "metadata": {},
   "outputs": [],
   "source": [
    "null_mean = np.mean(population)"
   ]
  },
  {
   "cell_type": "code",
   "execution_count": 20,
   "id": "1aad3bf7",
   "metadata": {},
   "outputs": [],
   "source": [
    "alpha = 0.05"
   ]
  },
  {
   "cell_type": "code",
   "execution_count": 14,
   "id": "5fc0c3e9",
   "metadata": {},
   "outputs": [
    {
     "name": "stdout",
     "output_type": "stream",
     "text": [
      "Requirement already satisfied: statsmodels in c:\\users\\dell\\anaconda3\\lib\\site-packages (0.13.2)\n",
      "Requirement already satisfied: numpy>=1.17 in c:\\users\\dell\\anaconda3\\lib\\site-packages (from statsmodels) (1.21.5)\n",
      "Requirement already satisfied: scipy>=1.3 in c:\\users\\dell\\anaconda3\\lib\\site-packages (from statsmodels) (1.7.3)\n",
      "Requirement already satisfied: pandas>=0.25 in c:\\users\\dell\\anaconda3\\lib\\site-packages (from statsmodels) (1.4.2)\n",
      "Requirement already satisfied: patsy>=0.5.2 in c:\\users\\dell\\anaconda3\\lib\\site-packages (from statsmodels) (0.5.2)\n",
      "Requirement already satisfied: packaging>=21.3 in c:\\users\\dell\\anaconda3\\lib\\site-packages (from statsmodels) (21.3)\n",
      "Requirement already satisfied: pyparsing!=3.0.5,>=2.0.2 in c:\\users\\dell\\anaconda3\\lib\\site-packages (from packaging>=21.3->statsmodels) (3.0.4)\n",
      "Requirement already satisfied: python-dateutil>=2.8.1 in c:\\users\\dell\\anaconda3\\lib\\site-packages (from pandas>=0.25->statsmodels) (2.8.2)\n",
      "Requirement already satisfied: pytz>=2020.1 in c:\\users\\dell\\anaconda3\\lib\\site-packages (from pandas>=0.25->statsmodels) (2021.3)\n",
      "Requirement already satisfied: six in c:\\users\\dell\\anaconda3\\lib\\site-packages (from patsy>=0.5.2->statsmodels) (1.16.0)\n",
      "Note: you may need to restart the kernel to use updated packages.\n"
     ]
    }
   ],
   "source": [
    "pip install statsmodels"
   ]
  },
  {
   "cell_type": "code",
   "execution_count": 21,
   "id": "3897ae7e",
   "metadata": {},
   "outputs": [],
   "source": [
    "from statsmodels.stats.weightstats import ztest"
   ]
  },
  {
   "cell_type": "code",
   "execution_count": 22,
   "id": "6dfd42e6",
   "metadata": {},
   "outputs": [],
   "source": [
    "z_score, p_value = ztest(population, value=null_mean, alternative = 'larger')"
   ]
  },
  {
   "cell_type": "code",
   "execution_count": 23,
   "id": "30cac249",
   "metadata": {},
   "outputs": [
    {
     "name": "stdout",
     "output_type": "stream",
     "text": [
      "0.0\n",
      "0.5\n"
     ]
    }
   ],
   "source": [
    "print(z_score)\n",
    "print(p_value)"
   ]
  },
  {
   "cell_type": "code",
   "execution_count": 24,
   "id": "26b8dc1c",
   "metadata": {},
   "outputs": [
    {
     "name": "stdout",
     "output_type": "stream",
     "text": [
      "accept the null hypothesis\n"
     ]
    }
   ],
   "source": [
    "if p_value < alpha:\n",
    "    print(\"reject the null hypothesis\")\n",
    "if p_value > alpha:\n",
    "    print(\"accept the null hypothesis\")    "
   ]
  },
  {
   "cell_type": "code",
   "execution_count": null,
   "id": "41a6fe53",
   "metadata": {},
   "outputs": [],
   "source": []
  }
 ],
 "metadata": {
  "kernelspec": {
   "display_name": "Python 3 (ipykernel)",
   "language": "python",
   "name": "python3"
  },
  "language_info": {
   "codemirror_mode": {
    "name": "ipython",
    "version": 3
   },
   "file_extension": ".py",
   "mimetype": "text/x-python",
   "name": "python",
   "nbconvert_exporter": "python",
   "pygments_lexer": "ipython3",
   "version": "3.9.12"
  }
 },
 "nbformat": 4,
 "nbformat_minor": 5
}
